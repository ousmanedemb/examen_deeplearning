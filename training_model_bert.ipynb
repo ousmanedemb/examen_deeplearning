{
 "cells": [
  {
   "cell_type": "code",
   "execution_count": 24,
   "id": "initial_id",
   "metadata": {
    "collapsed": true,
    "ExecuteTime": {
     "end_time": "2025-07-12T11:16:01.008382Z",
     "start_time": "2025-07-12T11:16:01.000993Z"
    }
   },
   "outputs": [],
   "source": [
    "import pandas as pd\n",
    "import torch\n",
    "from torch.utils.data import Dataset, DataLoader\n",
    "from datasets import load_dataset\n",
    "from transformers import BertTokenizer, BertForSequenceClassification\n",
    "from torch.optim import AdamW\n",
    "from sklearn.model_selection import train_test_split\n",
    "from sklearn.metrics import accuracy_score\n",
    "import gradio as gr\n",
    "import warnings\n",
    "import logging\n",
    "from transformers import logging as transformers_logging"
   ]
  },
  {
   "cell_type": "code",
   "outputs": [],
   "source": [
    "warnings.filterwarnings('ignore')\n",
    "transformers_logging.set_verbosity_error()"
   ],
   "metadata": {
    "collapsed": false,
    "ExecuteTime": {
     "end_time": "2025-07-12T11:16:03.108352Z",
     "start_time": "2025-07-12T11:16:03.101148Z"
    }
   },
   "id": "b299ac276d470373",
   "execution_count": 25
  },
  {
   "cell_type": "code",
   "outputs": [
    {
     "data": {
      "text/plain": "device(type='cuda')"
     },
     "execution_count": 26,
     "metadata": {},
     "output_type": "execute_result"
    }
   ],
   "source": [
    "device = torch.device('cuda' if torch.cuda.is_available() else 'cpu')\n",
    "device"
   ],
   "metadata": {
    "collapsed": false,
    "ExecuteTime": {
     "end_time": "2025-07-12T11:16:04.417217Z",
     "start_time": "2025-07-12T11:16:04.408101Z"
    }
   },
   "id": "1413d374c7ddb571",
   "execution_count": 26
  },
  {
   "cell_type": "code",
   "outputs": [],
   "source": [
    "# Configuration\n",
    "BATCH_SIZE = 16"
   ],
   "metadata": {
    "collapsed": false,
    "ExecuteTime": {
     "end_time": "2025-07-12T11:16:05.288450Z",
     "start_time": "2025-07-12T11:16:05.280890Z"
    }
   },
   "id": "3d059a0bbe72ea34",
   "execution_count": 27
  },
  {
   "cell_type": "code",
   "outputs": [
    {
     "name": "stderr",
     "output_type": "stream",
     "text": [
      "Repo card metadata block was not found. Setting CardData to empty.\n"
     ]
    }
   ],
   "source": [
    "# Chargement des données\n",
    "dataset = load_dataset(\"SetFit/tweet_sentiment_extraction\")\n",
    "train_dataset = dataset[\"train\"].remove_columns(\"textID\")\n",
    "test_dataset = dataset[\"test\"].remove_columns(\"textID\")"
   ],
   "metadata": {
    "collapsed": false,
    "ExecuteTime": {
     "end_time": "2025-07-12T11:16:11.302494Z",
     "start_time": "2025-07-12T11:16:06.433443Z"
    }
   },
   "id": "b18342ebac51d3a1",
   "execution_count": 28
  },
  {
   "cell_type": "code",
   "outputs": [
    {
     "data": {
      "text/plain": "(27481, 3)"
     },
     "execution_count": 29,
     "metadata": {},
     "output_type": "execute_result"
    }
   ],
   "source": [
    "train_dataset.shape"
   ],
   "metadata": {
    "collapsed": false,
    "ExecuteTime": {
     "end_time": "2025-07-12T11:16:11.313403Z",
     "start_time": "2025-07-12T11:16:11.306031Z"
    }
   },
   "id": "203545ecc6a43ea7",
   "execution_count": 29
  },
  {
   "cell_type": "code",
   "outputs": [
    {
     "data": {
      "text/plain": "(3534, 3)"
     },
     "execution_count": 30,
     "metadata": {},
     "output_type": "execute_result"
    }
   ],
   "source": [
    "test_dataset.shape"
   ],
   "metadata": {
    "collapsed": false,
    "ExecuteTime": {
     "end_time": "2025-07-12T11:16:13.112090Z",
     "start_time": "2025-07-12T11:16:13.102068Z"
    }
   },
   "id": "afed2ed8daeec8e8",
   "execution_count": 30
  },
  {
   "cell_type": "code",
   "outputs": [
    {
     "data": {
      "text/plain": "{'text': ' I`d have responded, if I were going',\n 'label': 1,\n 'label_text': 'neutral'}"
     },
     "execution_count": 31,
     "metadata": {},
     "output_type": "execute_result"
    }
   ],
   "source": [
    "train_dataset[0]"
   ],
   "metadata": {
    "collapsed": false,
    "ExecuteTime": {
     "end_time": "2025-07-12T11:16:14.282175Z",
     "start_time": "2025-07-12T11:16:14.269864Z"
    }
   },
   "id": "38433a40114d7803",
   "execution_count": 31
  },
  {
   "cell_type": "code",
   "outputs": [
    {
     "data": {
      "text/plain": "{0: 'negative', 1: 'neutral', 2: 'positive'}"
     },
     "execution_count": 32,
     "metadata": {},
     "output_type": "execute_result"
    }
   ],
   "source": [
    "unique_labels = sorted(set(train_dataset[\"label_text\"]))\n",
    "mapping_labels = dict(enumerate(unique_labels))\n",
    "mapping_labels"
   ],
   "metadata": {
    "collapsed": false,
    "ExecuteTime": {
     "end_time": "2025-07-12T11:16:16.585060Z",
     "start_time": "2025-07-12T11:16:15.449712Z"
    }
   },
   "id": "7c6353b6b42070e8",
   "execution_count": 32
  },
  {
   "cell_type": "code",
   "outputs": [],
   "source": [
    "# Tokenisation BERT\n",
    "tokenizer = BertTokenizer.from_pretrained('bert-base-uncased')"
   ],
   "metadata": {
    "collapsed": false,
    "ExecuteTime": {
     "end_time": "2025-07-12T11:16:21.798214Z",
     "start_time": "2025-07-12T11:16:20.833496Z"
    }
   },
   "id": "d6a66a05cae62bb4",
   "execution_count": 33
  },
  {
   "cell_type": "code",
   "outputs": [],
   "source": [
    "class SentimentDataset(Dataset):\n",
    "    def __init__(self, textes, label, tokenizer, longueur_max=256):\n",
    "        self.encodages = tokenizer(textes, truncation=True, padding=True, max_length=longueur_max)\n",
    "        self.label = label\n",
    "\n",
    "    def __getitem__(self, idx):\n",
    "        return {\n",
    "            'input_ids': torch.tensor(self.encodages['input_ids'][idx]),\n",
    "            'attention_mask': torch.tensor(self.encodages['attention_mask'][idx]),\n",
    "            'labels': torch.tensor(self.label[idx])\n",
    "        }\n",
    "\n",
    "    def __len__(self):\n",
    "        return len(self.label)"
   ],
   "metadata": {
    "collapsed": false,
    "ExecuteTime": {
     "end_time": "2025-07-12T11:16:22.782663Z",
     "start_time": "2025-07-12T11:16:22.772124Z"
    }
   },
   "id": "866ad3694a6427c7",
   "execution_count": 34
  },
  {
   "cell_type": "code",
   "outputs": [],
   "source": [
    "labelToid = {v: k for k, v in mapping_labels.items()}\n",
    "# Préparation des textes et labels\n",
    "X_train = list(train_dataset[\"text\"])\n",
    "y_train = [labelToid[label] for label in train_dataset[\"label_text\"]]\n",
    "X_test = list(test_dataset[\"text\"])\n",
    "y_test = [labelToid[label] for label in test_dataset[\"label_text\"]]\n",
    "\n",
    "# Création des datasets\n",
    "train_data = SentimentDataset(X_train, y_train, tokenizer)\n",
    "test_data = SentimentDataset(X_test, y_test, tokenizer)\n",
    "\n",
    "# DataLoaders\n",
    "train_loader = DataLoader(train_data, batch_size=BATCH_SIZE, shuffle=True)\n",
    "test_loader = DataLoader(test_data, batch_size=BATCH_SIZE)"
   ],
   "metadata": {
    "collapsed": false,
    "ExecuteTime": {
     "end_time": "2025-07-12T11:21:36.264708Z",
     "start_time": "2025-07-12T11:21:18.915233Z"
    }
   },
   "id": "39684d7cd21bb1cf",
   "execution_count": 37
  },
  {
   "cell_type": "code",
   "outputs": [],
   "source": [
    "# Chargement du modèle\n",
    "model = BertForSequenceClassification.from_pretrained('bert-base-uncased', num_labels=len(mapping_labels))\n",
    "optimiseur = AdamW(model.parameters(), lr=5e-5)\n",
    "device = torch.device(\"cuda\" if torch.cuda.is_available() else \"cpu\")\n",
    "modele = model.to(device)"
   ],
   "metadata": {
    "collapsed": false,
    "ExecuteTime": {
     "end_time": "2025-07-12T11:23:06.045264Z",
     "start_time": "2025-07-12T11:23:03.508274Z"
    }
   },
   "id": "1d01a21f050efca3",
   "execution_count": 38
  },
  {
   "cell_type": "code",
   "outputs": [
    {
     "name": "stdout",
     "output_type": "stream",
     "text": [
      "Époque 1 terminée.\n",
      "Époque 2 terminée.\n"
     ]
    }
   ],
   "source": [
    "# Entraînement du modèle\n",
    "modele.train()\n",
    "for epoch in range(2):\n",
    "    for batch in train_loader:\n",
    "        optimiseur.zero_grad()\n",
    "        output = model(input_ids=batch['input_ids'].to(device), \n",
    "                         attention_mask=batch['attention_mask'].to(device), \n",
    "                         labels=batch['labels'].to(device))\n",
    "        loss = output.loss\n",
    "        loss.backward()\n",
    "        optimiseur.step()\n",
    "    print(f\"Époque {epoch+1} terminée.\")"
   ],
   "metadata": {
    "collapsed": false,
    "ExecuteTime": {
     "end_time": "2025-07-12T11:41:18.396451Z",
     "start_time": "2025-07-12T11:27:49.053177Z"
    }
   },
   "id": "3e48d00184fcde8a",
   "execution_count": 41
  },
  {
   "cell_type": "code",
   "outputs": [
    {
     "name": "stdout",
     "output_type": "stream",
     "text": [
      "Précision sur l'ensemble de test : 0.7758913412563667\n"
     ]
    }
   ],
   "source": [
    "# Évaluation\n",
    "modele.eval()\n",
    "predictions, true_labels = [], []\n",
    "with torch.no_grad():\n",
    "    for batch in test_loader:\n",
    "        output = model(input_ids=batch['input_ids'].to(device), \n",
    "                        attention_mask=batch['attention_mask'].to(device))\n",
    "        pred = torch.argmax(output.logits, dim=1)\n",
    "        predictions.extend(pred.tolist())\n",
    "        true_labels.extend(batch['labels'].tolist())\n",
    "\n",
    "print(\"Précision sur l'ensemble de test :\", accuracy_score(true_labels, predictions))"
   ],
   "metadata": {
    "collapsed": false,
    "ExecuteTime": {
     "end_time": "2025-07-12T11:43:19.929541Z",
     "start_time": "2025-07-12T11:43:08.278316Z"
    }
   },
   "id": "a16bb72dee2a8805",
   "execution_count": 42
  },
  {
   "cell_type": "code",
   "outputs": [
    {
     "name": "stdout",
     "output_type": "stream",
     "text": [
      "✅ Modèle et tokenizer sauvegardés dans le dossier : sentiment_model\n"
     ]
    }
   ],
   "source": [
    "# Dossier de sauvegarde\n",
    "save_path = \"sentiment_model\"\n",
    "\n",
    "# Sauvegarde du modèle et du tokenizer\n",
    "model.save_pretrained(save_path)\n",
    "tokenizer.save_pretrained(save_path)\n",
    "\n",
    "print(f\"✅ Modèle et tokenizer sauvegardés dans le dossier : {save_path}\")"
   ],
   "metadata": {
    "collapsed": false,
    "ExecuteTime": {
     "end_time": "2025-07-12T11:48:22.672417Z",
     "start_time": "2025-07-12T11:48:21.613632Z"
    }
   },
   "id": "a4e40181adae6aad",
   "execution_count": 43
  },
  {
   "cell_type": "code",
   "outputs": [
    {
     "data": {
      "text/plain": "BertForSequenceClassification(\n  (bert): BertModel(\n    (embeddings): BertEmbeddings(\n      (word_embeddings): Embedding(30522, 768, padding_idx=0)\n      (position_embeddings): Embedding(512, 768)\n      (token_type_embeddings): Embedding(2, 768)\n      (LayerNorm): LayerNorm((768,), eps=1e-12, elementwise_affine=True)\n      (dropout): Dropout(p=0.1, inplace=False)\n    )\n    (encoder): BertEncoder(\n      (layer): ModuleList(\n        (0-11): 12 x BertLayer(\n          (attention): BertAttention(\n            (self): BertSdpaSelfAttention(\n              (query): Linear(in_features=768, out_features=768, bias=True)\n              (key): Linear(in_features=768, out_features=768, bias=True)\n              (value): Linear(in_features=768, out_features=768, bias=True)\n              (dropout): Dropout(p=0.1, inplace=False)\n            )\n            (output): BertSelfOutput(\n              (dense): Linear(in_features=768, out_features=768, bias=True)\n              (LayerNorm): LayerNorm((768,), eps=1e-12, elementwise_affine=True)\n              (dropout): Dropout(p=0.1, inplace=False)\n            )\n          )\n          (intermediate): BertIntermediate(\n            (dense): Linear(in_features=768, out_features=3072, bias=True)\n            (intermediate_act_fn): GELUActivation()\n          )\n          (output): BertOutput(\n            (dense): Linear(in_features=3072, out_features=768, bias=True)\n            (LayerNorm): LayerNorm((768,), eps=1e-12, elementwise_affine=True)\n            (dropout): Dropout(p=0.1, inplace=False)\n          )\n        )\n      )\n    )\n    (pooler): BertPooler(\n      (dense): Linear(in_features=768, out_features=768, bias=True)\n      (activation): Tanh()\n    )\n  )\n  (dropout): Dropout(p=0.1, inplace=False)\n  (classifier): Linear(in_features=768, out_features=3, bias=True)\n)"
     },
     "execution_count": 48,
     "metadata": {},
     "output_type": "execute_result"
    }
   ],
   "source": [
    "from transformers import AutoTokenizer, AutoModelForSequenceClassification\n",
    "\n",
    "save_path = \"sentiment_model\"\n",
    "\n",
    "# Chargement du modèle et du tokenizer\n",
    "model_load = AutoModelForSequenceClassification.from_pretrained(save_path)\n",
    "tokenizer_load = AutoTokenizer.from_pretrained(save_path)\n",
    "\n",
    "# Envoie sur GPU si disponible\n",
    "device = torch.device(\"cuda\" if torch.cuda.is_available() else \"cpu\")\n",
    "model_load.to(device)"
   ],
   "metadata": {
    "collapsed": false,
    "ExecuteTime": {
     "end_time": "2025-07-12T12:02:04.954515Z",
     "start_time": "2025-07-12T12:02:03.946737Z"
    }
   },
   "id": "29ca394ce4bf0c9b",
   "execution_count": 48
  },
  {
   "cell_type": "code",
   "outputs": [],
   "source": [
    "labels = {0: \"negative\", 1: \"neutral\", 2: \"positive\"}"
   ],
   "metadata": {
    "collapsed": false,
    "ExecuteTime": {
     "end_time": "2025-07-12T12:06:09.892709Z",
     "start_time": "2025-07-12T12:06:09.887664Z"
    }
   },
   "id": "414227c9c409e1ea",
   "execution_count": 51
  },
  {
   "cell_type": "code",
   "outputs": [],
   "source": [
    "labels = {0: \"negative\", 1: \"neutral\", 2: \"positive\"}\n",
    "def predict_sentiment(text: str):\n",
    "    encoding = tokenizer(text, return_tensors=\"pt\", truncation=True, padding=True, max_length=256)\n",
    "    encoding = {k: v.to(device) for k, v in encoding.items()}\n",
    "    with torch.no_grad():\n",
    "        output = model_load(**encoding)\n",
    "        prediction = torch.argmax(output.logits, dim=1).item()\n",
    "    return labels[prediction]\n"
   ],
   "metadata": {
    "collapsed": false,
    "ExecuteTime": {
     "end_time": "2025-07-12T12:06:10.681885Z",
     "start_time": "2025-07-12T12:06:10.673321Z"
    }
   },
   "id": "b6634d0771a1e197",
   "execution_count": 52
  },
  {
   "cell_type": "code",
   "outputs": [
    {
     "name": "stdout",
     "output_type": "stream",
     "text": [
      "🧠 Sentiment prédit : positive\n"
     ]
    }
   ],
   "source": [
    "texte = \"YOU HAVE A GREAT PIECE\"\n",
    "sentiment = predict_sentiment(texte)\n",
    "print(f\"🧠 Sentiment prédit : {sentiment}\")"
   ],
   "metadata": {
    "collapsed": false,
    "ExecuteTime": {
     "end_time": "2025-07-12T12:43:18.280377Z",
     "start_time": "2025-07-12T12:43:18.209441Z"
    }
   },
   "id": "c4d227c40fbe40ed",
   "execution_count": 58
  }
 ],
 "metadata": {
  "kernelspec": {
   "display_name": "Python 3",
   "language": "python",
   "name": "python3"
  },
  "language_info": {
   "codemirror_mode": {
    "name": "ipython",
    "version": 2
   },
   "file_extension": ".py",
   "mimetype": "text/x-python",
   "name": "python",
   "nbconvert_exporter": "python",
   "pygments_lexer": "ipython2",
   "version": "2.7.6"
  }
 },
 "nbformat": 4,
 "nbformat_minor": 5
}
